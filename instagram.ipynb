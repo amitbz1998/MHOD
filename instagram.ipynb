{
 "cells": [
  {
   "cell_type": "code",
   "execution_count": 1,
   "id": "dbf52da2",
   "metadata": {},
   "outputs": [],
   "source": [
    "from IPython.core.interactiveshell import InteractiveShell\n",
    "InteractiveShell.ast_node_interactivity = \"all\""
   ]
  },
  {
   "cell_type": "code",
   "execution_count": 2,
   "id": "7aed5c0e",
   "metadata": {},
   "outputs": [],
   "source": [
    "from selenium import webdriver\n",
    "from selenium.webdriver.common.by import By\n",
    "from selenium.webdriver.support.ui import WebDriverWait\n",
    "from selenium.webdriver.support import expected_conditions as EC"
   ]
  },
  {
   "cell_type": "code",
   "execution_count": 3,
   "id": "d6dd4d87",
   "metadata": {},
   "outputs": [],
   "source": [
    "driver = webdriver.Chrome()\n",
    "\n",
    "# Open the Instagram post\n",
    "driver.get('https://www.instagram.com/p/CtR3USuKlYE/')"
   ]
  },
  {
   "cell_type": "code",
   "execution_count": 4,
   "id": "3126982f",
   "metadata": {},
   "outputs": [
    {
     "ename": "TimeoutException",
     "evalue": "Message: \nStacktrace:\nBacktrace:\n\tGetHandleVerifier [0x004BA813+48355]\n\t(No symbol) [0x0044C4B1]\n\t(No symbol) [0x00355358]\n\t(No symbol) [0x003809A5]\n\t(No symbol) [0x00380B3B]\n\t(No symbol) [0x003AE232]\n\t(No symbol) [0x0039A784]\n\t(No symbol) [0x003AC922]\n\t(No symbol) [0x0039A536]\n\t(No symbol) [0x003782DC]\n\t(No symbol) [0x003793DD]\n\tGetHandleVerifier [0x0071AABD+2539405]\n\tGetHandleVerifier [0x0075A78F+2800735]\n\tGetHandleVerifier [0x0075456C+2775612]\n\tGetHandleVerifier [0x005451E0+616112]\n\t(No symbol) [0x00455F8C]\n\t(No symbol) [0x00452328]\n\t(No symbol) [0x0045240B]\n\t(No symbol) [0x00444FF7]\n\tBaseThreadInitThunk [0x76BA00C9+25]\n\tRtlGetAppContainerNamedObjectPath [0x77337B4E+286]\n\tRtlGetAppContainerNamedObjectPath [0x77337B1E+238]\n",
     "output_type": "error",
     "traceback": [
      "\u001b[1;31m---------------------------------------------------------------------------\u001b[0m",
      "\u001b[1;31mTimeoutException\u001b[0m                          Traceback (most recent call last)",
      "\u001b[1;32m~\\AppData\\Local\\Temp/ipykernel_20276/3283487941.py\u001b[0m in \u001b[0;36m<module>\u001b[1;34m\u001b[0m\n\u001b[0;32m      1\u001b[0m \u001b[1;31m# Wait for the comments to load\u001b[0m\u001b[1;33m\u001b[0m\u001b[1;33m\u001b[0m\u001b[0m\n\u001b[1;32m----> 2\u001b[1;33m \u001b[0mcomments_loaded\u001b[0m \u001b[1;33m=\u001b[0m \u001b[0mWebDriverWait\u001b[0m\u001b[1;33m(\u001b[0m\u001b[0mdriver\u001b[0m\u001b[1;33m,\u001b[0m \u001b[1;36m10\u001b[0m\u001b[1;33m)\u001b[0m\u001b[1;33m.\u001b[0m\u001b[0muntil\u001b[0m\u001b[1;33m(\u001b[0m\u001b[0mEC\u001b[0m\u001b[1;33m.\u001b[0m\u001b[0mpresence_of_element_located\u001b[0m\u001b[1;33m(\u001b[0m\u001b[1;33m(\u001b[0m\u001b[0mBy\u001b[0m\u001b[1;33m.\u001b[0m\u001b[0mCSS_SELECTOR\u001b[0m\u001b[1;33m,\u001b[0m \u001b[1;34m'ul.Mr508'\u001b[0m\u001b[1;33m)\u001b[0m\u001b[1;33m)\u001b[0m\u001b[1;33m)\u001b[0m\u001b[1;33m\u001b[0m\u001b[1;33m\u001b[0m\u001b[0m\n\u001b[0m\u001b[0;32m      3\u001b[0m \u001b[0mcomment_elements\u001b[0m \u001b[1;33m=\u001b[0m \u001b[0mdriver\u001b[0m\u001b[1;33m.\u001b[0m\u001b[0mfind_elements\u001b[0m\u001b[1;33m(\u001b[0m\u001b[0mBy\u001b[0m\u001b[1;33m.\u001b[0m\u001b[0mCSS_SELECTOR\u001b[0m\u001b[1;33m,\u001b[0m \u001b[1;34m'ul.Mr508 .C4VMK'\u001b[0m\u001b[1;33m)\u001b[0m\u001b[1;33m\u001b[0m\u001b[1;33m\u001b[0m\u001b[0m\n\u001b[0;32m      4\u001b[0m \u001b[1;33m\u001b[0m\u001b[0m\n\u001b[0;32m      5\u001b[0m \u001b[0mcomments\u001b[0m \u001b[1;33m=\u001b[0m \u001b[1;33m[\u001b[0m\u001b[1;33m]\u001b[0m\u001b[1;33m\u001b[0m\u001b[1;33m\u001b[0m\u001b[0m\n",
      "\u001b[1;32m~\\anaconda3\\lib\\site-packages\\selenium\\webdriver\\support\\wait.py\u001b[0m in \u001b[0;36muntil\u001b[1;34m(self, method, message)\u001b[0m\n\u001b[0;32m     87\u001b[0m             \u001b[1;32mif\u001b[0m \u001b[0mtime\u001b[0m\u001b[1;33m.\u001b[0m\u001b[0mtime\u001b[0m\u001b[1;33m(\u001b[0m\u001b[1;33m)\u001b[0m \u001b[1;33m>\u001b[0m \u001b[0mend_time\u001b[0m\u001b[1;33m:\u001b[0m\u001b[1;33m\u001b[0m\u001b[1;33m\u001b[0m\u001b[0m\n\u001b[0;32m     88\u001b[0m                 \u001b[1;32mbreak\u001b[0m\u001b[1;33m\u001b[0m\u001b[1;33m\u001b[0m\u001b[0m\n\u001b[1;32m---> 89\u001b[1;33m         \u001b[1;32mraise\u001b[0m \u001b[0mTimeoutException\u001b[0m\u001b[1;33m(\u001b[0m\u001b[0mmessage\u001b[0m\u001b[1;33m,\u001b[0m \u001b[0mscreen\u001b[0m\u001b[1;33m,\u001b[0m \u001b[0mstacktrace\u001b[0m\u001b[1;33m)\u001b[0m\u001b[1;33m\u001b[0m\u001b[1;33m\u001b[0m\u001b[0m\n\u001b[0m\u001b[0;32m     90\u001b[0m \u001b[1;33m\u001b[0m\u001b[0m\n\u001b[0;32m     91\u001b[0m     \u001b[1;32mdef\u001b[0m \u001b[0muntil_not\u001b[0m\u001b[1;33m(\u001b[0m\u001b[0mself\u001b[0m\u001b[1;33m,\u001b[0m \u001b[0mmethod\u001b[0m\u001b[1;33m,\u001b[0m \u001b[0mmessage\u001b[0m\u001b[1;33m=\u001b[0m\u001b[1;34m''\u001b[0m\u001b[1;33m)\u001b[0m\u001b[1;33m:\u001b[0m\u001b[1;33m\u001b[0m\u001b[1;33m\u001b[0m\u001b[0m\n",
      "\u001b[1;31mTimeoutException\u001b[0m: Message: \nStacktrace:\nBacktrace:\n\tGetHandleVerifier [0x004BA813+48355]\n\t(No symbol) [0x0044C4B1]\n\t(No symbol) [0x00355358]\n\t(No symbol) [0x003809A5]\n\t(No symbol) [0x00380B3B]\n\t(No symbol) [0x003AE232]\n\t(No symbol) [0x0039A784]\n\t(No symbol) [0x003AC922]\n\t(No symbol) [0x0039A536]\n\t(No symbol) [0x003782DC]\n\t(No symbol) [0x003793DD]\n\tGetHandleVerifier [0x0071AABD+2539405]\n\tGetHandleVerifier [0x0075A78F+2800735]\n\tGetHandleVerifier [0x0075456C+2775612]\n\tGetHandleVerifier [0x005451E0+616112]\n\t(No symbol) [0x00455F8C]\n\t(No symbol) [0x00452328]\n\t(No symbol) [0x0045240B]\n\t(No symbol) [0x00444FF7]\n\tBaseThreadInitThunk [0x76BA00C9+25]\n\tRtlGetAppContainerNamedObjectPath [0x77337B4E+286]\n\tRtlGetAppContainerNamedObjectPath [0x77337B1E+238]\n"
     ]
    }
   ],
   "source": [
    "# Wait for the comments to load\n",
    "comments_loaded = WebDriverWait(driver, 10).until(EC.presence_of_element_located((By.CSS_SELECTOR, 'ul.Mr508')))\n",
    "comment_elements = driver.find_elements(By.CSS_SELECTOR, 'ul.Mr508 .C4VMK')\n",
    "\n",
    "comments = []\n",
    "for element in comment_elements:\n",
    "    comment = element.find_element(By.TAG_NAME, 'span').text\n",
    "    comments.append(comment)\n",
    "\n",
    "# Print the extracted comments\n",
    "for comment in comments:\n",
    "    print(comment)\n",
    "\n"
   ]
  },
  {
   "cell_type": "code",
   "execution_count": null,
   "id": "c9a5ce75",
   "metadata": {},
   "outputs": [],
   "source": [
    "# Clean up and close the browser\n",
    "driver.quit()"
   ]
  }
 ],
 "metadata": {
  "kernelspec": {
   "display_name": "Python 3 (ipykernel)",
   "language": "python",
   "name": "python3"
  },
  "language_info": {
   "codemirror_mode": {
    "name": "ipython",
    "version": 3
   },
   "file_extension": ".py",
   "mimetype": "text/x-python",
   "name": "python",
   "nbconvert_exporter": "python",
   "pygments_lexer": "ipython3",
   "version": "3.9.7"
  }
 },
 "nbformat": 4,
 "nbformat_minor": 5
}
